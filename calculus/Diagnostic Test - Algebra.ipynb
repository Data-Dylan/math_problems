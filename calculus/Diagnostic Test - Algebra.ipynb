{
 "cells": [
  {
   "cell_type": "code",
   "execution_count": 1,
   "id": "cc3e749f",
   "metadata": {},
   "outputs": [],
   "source": [
    "# Software packages.\n",
    "from fractions import Fraction\n",
    "import sympy as sp\n",
    "from sympy.solvers.inequalities import reduce_rational_inequalities\n",
    "from math import sqrt"
   ]
  },
  {
   "cell_type": "markdown",
   "id": "d0327de0",
   "metadata": {},
   "source": [
    "### Question 1\n",
    "**(a)**\n",
    "$$\n",
    "(-3)^4 \\\\\n",
    "= (-3)(-3)(-3)(-3) \\\\\n",
    "= (9)(9) \\\\\n",
    "= 81\n",
    "$$"
   ]
  },
  {
   "cell_type": "code",
   "execution_count": 2,
   "id": "2936c1ce",
   "metadata": {},
   "outputs": [
    {
     "data": {
      "text/plain": [
       "81"
      ]
     },
     "execution_count": 2,
     "metadata": {},
     "output_type": "execute_result"
    }
   ],
   "source": [
    "(-3) ** 4"
   ]
  },
  {
   "cell_type": "markdown",
   "id": "b2b8a6a8",
   "metadata": {},
   "source": [
    "**(b)**\n",
    "$$\n",
    "-3^4 \\\\\n",
    "= -(3)(3)(3)(3) \\\\\n",
    "= -(9)(9) \\\\ \n",
    "-81\n",
    "$$"
   ]
  },
  {
   "cell_type": "code",
   "execution_count": 3,
   "id": "7cfc0705",
   "metadata": {},
   "outputs": [
    {
     "data": {
      "text/plain": [
       "-81"
      ]
     },
     "execution_count": 3,
     "metadata": {},
     "output_type": "execute_result"
    }
   ],
   "source": [
    "-3 ** 4"
   ]
  },
  {
   "cell_type": "markdown",
   "id": "21386157",
   "metadata": {},
   "source": [
    "**(c)**\n",
    "$$\n",
    "3^{-4} \\\\\n",
    "= \\left(\\frac{1}{3}\\right)^4 \\\\\n",
    "= \\left(\\frac{1}{3}\\right)\\left(\\frac{1}{3}\\right)\\left(\\frac{1}{3}\\right)\\left(\\frac{1}{3}\\right) \\\\\n",
    "= \\left(\\frac{1}{9}\\right)\\left(\\frac{1}{9}\\right) \\\\\n",
    "= \\frac{1}{81}\n",
    "$$"
   ]
  },
  {
   "cell_type": "code",
   "execution_count": 4,
   "id": "53dbb3e7",
   "metadata": {},
   "outputs": [
    {
     "name": "stdout",
     "output_type": "stream",
     "text": [
      "1/81\n"
     ]
    }
   ],
   "source": [
    "print(Fraction(3) ** (-4))"
   ]
  },
  {
   "cell_type": "markdown",
   "id": "6124febf",
   "metadata": {},
   "source": [
    "**(d)**\n",
    "$$\n",
    "\\frac{5^{23}}{5^{21}} \\\\\n",
    "= 5^{23-21} \\\\\n",
    "= 5^{2} \\\\\n",
    "= 25 \n",
    "$$"
   ]
  },
  {
   "cell_type": "code",
   "execution_count": 5,
   "id": "f4de3724",
   "metadata": {},
   "outputs": [
    {
     "data": {
      "text/plain": [
       "25.0"
      ]
     },
     "execution_count": 5,
     "metadata": {},
     "output_type": "execute_result"
    }
   ],
   "source": [
    "(5 ** 23) / (5 ** 21)"
   ]
  },
  {
   "cell_type": "markdown",
   "id": "1c15c1ad",
   "metadata": {},
   "source": [
    "**(e)**\n",
    "$$\n",
    "\\left(\\frac{2}{3} \\right)^{-2} \\\\\n",
    "= \\left(\\frac{1}{\\frac{2}{3}} \\right)^2 \\\\\n",
    "= \\left(\\frac{3}{2} \\right)^2 \\\\\n",
    "= \\left(\\frac{3}{2} \\right) \\left(\\frac{3}{2} \\right) \\\\\n",
    "= \\frac {9}{4}\n",
    "$$"
   ]
  },
  {
   "cell_type": "code",
   "execution_count": 6,
   "id": "be2ee8db",
   "metadata": {},
   "outputs": [
    {
     "name": "stdout",
     "output_type": "stream",
     "text": [
      "9/4\n"
     ]
    }
   ],
   "source": [
    "print(Fraction(2, 3) ** (-2))"
   ]
  },
  {
   "cell_type": "markdown",
   "id": "0f7e495b",
   "metadata": {},
   "source": [
    "**(f)**\n",
    "$$\n",
    "16^{-3 / 4} \\\\\n",
    "= \\left(\\frac{1}{16} \\right)^{3/4} \\\\\n",
    "= \\left(\\left(\\frac{1}{2} \\right)^{4}\\right)^{3/4} \\\\\n",
    "= \\left(\\frac{1}{2} \\right)^{4 \\times 3/4} \\\\\n",
    "= \\left(\\frac{1}{2} \\right)^{12/4} \\\\\n",
    "= \\left(\\frac{1}{2} \\right)^{3} \\\\\n",
    "= \\left(\\frac{1}{2} \\right)\\left(\\frac{1}{2} \\right)\\left(\\frac{1}{2} \\right) \\\\\n",
    "= \\frac{1}{8}\n",
    "$$"
   ]
  },
  {
   "cell_type": "code",
   "execution_count": 7,
   "id": "ff4728e5",
   "metadata": {},
   "outputs": [
    {
     "name": "stdout",
     "output_type": "stream",
     "text": [
      "1/8\n"
     ]
    }
   ],
   "source": [
    "print(Fraction(16 ** (-3/4)))"
   ]
  },
  {
   "cell_type": "markdown",
   "id": "7fb377e4",
   "metadata": {},
   "source": [
    "### Question 2\n",
    "**(a)**\n",
    "$$\n",
    "\\sqrt{200} - \\sqrt{32} \\\\\n",
    "= \\sqrt{2 \\times 100} - \\sqrt{2 \\times 16} \\\\\n",
    "= 10 \\sqrt{2} - 4 \\sqrt{2} \\\\\n",
    "= 6 \\sqrt{2}\n",
    "$$"
   ]
  },
  {
   "cell_type": "code",
   "execution_count": 8,
   "id": "54768d63",
   "metadata": {},
   "outputs": [
    {
     "data": {
      "text/latex": [
       "$\\displaystyle 6 \\sqrt{2}$"
      ],
      "text/plain": [
       "6*sqrt(2)"
      ]
     },
     "execution_count": 8,
     "metadata": {},
     "output_type": "execute_result"
    }
   ],
   "source": [
    "sp.simplify(sp.sqrt(200) - sp.sqrt(32))"
   ]
  },
  {
   "cell_type": "markdown",
   "id": "96ab1575",
   "metadata": {},
   "source": [
    "**(b)**\n",
    "$$\n",
    "(3a^3b^3)(4ab^2)^2 \\\\\n",
    "= (3a^3b^3)(16a^2b^4) \\\\\n",
    "= 48a^5b^7\n",
    "$$"
   ]
  },
  {
   "cell_type": "code",
   "execution_count": 9,
   "id": "9443331f",
   "metadata": {},
   "outputs": [
    {
     "data": {
      "text/latex": [
       "$\\displaystyle 48 a^{5} b^{7}$"
      ],
      "text/plain": [
       "48*a**5*b**7"
      ]
     },
     "execution_count": 9,
     "metadata": {},
     "output_type": "execute_result"
    }
   ],
   "source": [
    "a, b = sp.symbols(\"a b\")\n",
    "sp.simplify((3 * a ** 3 * b ** 3) * (4 * a * b**2)**2)"
   ]
  },
  {
   "cell_type": "markdown",
   "id": "9c961878",
   "metadata": {},
   "source": [
    "**(c)**\n",
    "$$\n",
    "\\left( \\frac{3x^{3/2}y^3}{x^2y^{-1/2}} \\right)^{-2} \\\\\n",
    "= \\left( \\frac{x^2y^{-1/2}}{3x^{3/2}y^3} \\right)^{2} \\\\\n",
    "= \\frac{x^4y^{-1}}{9x^{3}y^6} \\\\\n",
    "= \\frac{xy^{-7}}{9} \\\\\n",
    "= \\frac{x}{9y^7} \\\\\n",
    "$$"
   ]
  },
  {
   "cell_type": "code",
   "execution_count": 10,
   "id": "b79b6fd0",
   "metadata": {},
   "outputs": [
    {
     "data": {
      "text/latex": [
       "$\\displaystyle \\frac{x^{1.0}}{9 y^{7.0}}$"
      ],
      "text/plain": [
       "x**1.0/(9*y**7.0)"
      ]
     },
     "execution_count": 10,
     "metadata": {},
     "output_type": "execute_result"
    }
   ],
   "source": [
    "x, y = sp.symbols(\"x y\")\n",
    "sp.simplify(((3 * x ** (3/2) * y ** 3) / (x ** 2 * y ** (-1/2))) ** (-2))"
   ]
  },
  {
   "cell_type": "markdown",
   "id": "f21fcf0c",
   "metadata": {},
   "source": [
    "### Question 3\n",
    "**(a)**\n",
    "$$\n",
    "3(x + 6) + 4(2x - 5) \\\\\n",
    "= 3x + 18 + 8x - 20 \\\\\n",
    "= 11x -2\n",
    "$$"
   ]
  },
  {
   "cell_type": "code",
   "execution_count": 11,
   "id": "568e792b",
   "metadata": {},
   "outputs": [
    {
     "data": {
      "text/latex": [
       "$\\displaystyle 11 x - 2$"
      ],
      "text/plain": [
       "11*x - 2"
      ]
     },
     "execution_count": 11,
     "metadata": {},
     "output_type": "execute_result"
    }
   ],
   "source": [
    "x = sp.symbols(\"x\")\n",
    "sp.expand(3*(x + 6) + 4 * (2 * x - 5))"
   ]
  },
  {
   "cell_type": "markdown",
   "id": "029d1564",
   "metadata": {},
   "source": [
    "**(b)**\n",
    "$$\n",
    "(x + 3)(4x - 5) \\\\\n",
    "= 4x^2 - 5x + 12x - 15 \\\\\n",
    "= 4x ^ 2 + 7x - 15\n",
    "$$"
   ]
  },
  {
   "cell_type": "code",
   "execution_count": 12,
   "id": "c24efc0f",
   "metadata": {},
   "outputs": [
    {
     "data": {
      "text/latex": [
       "$\\displaystyle 4 x^{2} + 7 x - 15$"
      ],
      "text/plain": [
       "4*x**2 + 7*x - 15"
      ]
     },
     "execution_count": 12,
     "metadata": {},
     "output_type": "execute_result"
    }
   ],
   "source": [
    "x = sp.symbols(\"x\")\n",
    "sp.expand((x + 3) * (4 * x - 5))"
   ]
  },
  {
   "cell_type": "markdown",
   "id": "a20953e5",
   "metadata": {},
   "source": [
    "**(c)** \n",
    "$$\n",
    "\\left( \\sqrt{a} + \\sqrt{b} \\right) \\left( \\sqrt{a} - \\sqrt{b} \\right) \\\\\n",
    "= a - \\sqrt{a}\\sqrt{b} + \\sqrt{a}\\sqrt{b} - b \\\\\n",
    "= a - b\n",
    "$$"
   ]
  },
  {
   "cell_type": "code",
   "execution_count": 13,
   "id": "92024fa7",
   "metadata": {},
   "outputs": [
    {
     "data": {
      "text/latex": [
       "$\\displaystyle a - b$"
      ],
      "text/plain": [
       "a - b"
      ]
     },
     "execution_count": 13,
     "metadata": {},
     "output_type": "execute_result"
    }
   ],
   "source": [
    "a, b = sp.symbols(\"a b\")\n",
    "sp.expand((sp.sqrt(a) + sp.sqrt(b)) * (sp.sqrt(a) - sp.sqrt(b)))"
   ]
  },
  {
   "cell_type": "markdown",
   "id": "e0e95edd",
   "metadata": {},
   "source": [
    "**(d)**\n",
    "$$\n",
    "(2x + 3) ^ 2 \\\\\n",
    "= (2x + 3)(2x + 3) \\\\\n",
    "= 4x^2 + 6x + 6x + 9 \\\\\n",
    "= 4x^2 + 12x + 9\n",
    "$$"
   ]
  },
  {
   "cell_type": "code",
   "execution_count": 14,
   "id": "a68ab9f8",
   "metadata": {},
   "outputs": [
    {
     "data": {
      "text/latex": [
       "$\\displaystyle 4 x^{2} + 12 x + 9$"
      ],
      "text/plain": [
       "4*x**2 + 12*x + 9"
      ]
     },
     "execution_count": 14,
     "metadata": {},
     "output_type": "execute_result"
    }
   ],
   "source": [
    "x = sp.symbols(\"x\")\n",
    "sp.expand((2 * x + 3) ** 2)"
   ]
  },
  {
   "cell_type": "markdown",
   "id": "4e09d71c",
   "metadata": {},
   "source": [
    "**(e)**\n",
    "\n",
    "$$\n",
    "(x + 2) ^ 3 \\\\\n",
    "= (x + 2)(x + 2)(x + 2) \\\\\n",
    "= (x^2 + 2x + 2x + 4)(x + 2) \\\\\n",
    "= (x^2 + 4x + 4)(x + 2) \\\\\n",
    "= x^3 + 4x^2 + 4x + 2x^2 + 8x + 8 \\\\\n",
    "= x^3 + 6x^2 + 12x + 8 \\\\\n",
    "$$"
   ]
  },
  {
   "cell_type": "code",
   "execution_count": 15,
   "id": "ee584d04",
   "metadata": {},
   "outputs": [
    {
     "data": {
      "text/latex": [
       "$\\displaystyle x^{3} + 6 x^{2} + 12 x + 8$"
      ],
      "text/plain": [
       "x**3 + 6*x**2 + 12*x + 8"
      ]
     },
     "execution_count": 15,
     "metadata": {},
     "output_type": "execute_result"
    }
   ],
   "source": [
    "x = sp.symbols(\"x\")\n",
    "sp.expand((x + 2) ** 3)"
   ]
  },
  {
   "cell_type": "markdown",
   "id": "7712cd34",
   "metadata": {},
   "source": [
    "### Question 4\n",
    "**(a)**\n",
    "$$\n",
    "4x^2 - 25 \\\\\n",
    "= (2x + 5)(2x - 5)\n",
    "$$"
   ]
  },
  {
   "cell_type": "code",
   "execution_count": 16,
   "id": "648ceace",
   "metadata": {},
   "outputs": [
    {
     "data": {
      "text/latex": [
       "$\\displaystyle \\left(2 x - 5\\right) \\left(2 x + 5\\right)$"
      ],
      "text/plain": [
       "(2*x - 5)*(2*x + 5)"
      ]
     },
     "execution_count": 16,
     "metadata": {},
     "output_type": "execute_result"
    }
   ],
   "source": [
    "x = sp.symbols(\"x\")\n",
    "sp.factor(4 * x ** 2 - 25)"
   ]
  },
  {
   "cell_type": "markdown",
   "id": "88557a1a",
   "metadata": {},
   "source": [
    "**(b)**\n",
    "$$\n",
    "2x^2 + 5x - 12 \\\\\n",
    "= (2x - 3)(x + 4)\n",
    "$$"
   ]
  },
  {
   "cell_type": "code",
   "execution_count": 17,
   "id": "f7bd27e3",
   "metadata": {},
   "outputs": [
    {
     "data": {
      "text/latex": [
       "$\\displaystyle \\left(x + 4\\right) \\left(2 x - 3\\right)$"
      ],
      "text/plain": [
       "(x + 4)*(2*x - 3)"
      ]
     },
     "execution_count": 17,
     "metadata": {},
     "output_type": "execute_result"
    }
   ],
   "source": [
    "x = sp.symbols(\"x\")\n",
    "sp.factor(2 * x ** 2 + 5 * x - 12)"
   ]
  },
  {
   "cell_type": "markdown",
   "id": "fb18306d",
   "metadata": {},
   "source": [
    "**(c)**\n",
    "\n",
    "$$\n",
    "x^3 - 3x^2 - 4x + 12 \\\\\n",
    "=x^2(x - 3) - 4(x - 3) \\\\\n",
    "=(x^2 - 4)(x - 3) \\\\\n",
    "=(x + 2)(x - 2)(x - 3)\n",
    "$$"
   ]
  },
  {
   "cell_type": "code",
   "execution_count": 18,
   "id": "5128fc97",
   "metadata": {},
   "outputs": [
    {
     "data": {
      "text/latex": [
       "$\\displaystyle \\left(x - 3\\right) \\left(x - 2\\right) \\left(x + 2\\right)$"
      ],
      "text/plain": [
       "(x - 3)*(x - 2)*(x + 2)"
      ]
     },
     "execution_count": 18,
     "metadata": {},
     "output_type": "execute_result"
    }
   ],
   "source": [
    "x = sp.symbols(\"x\")\n",
    "sp.factor(x ** 3 - 3 * x ** 2 - 4 * x + 12)"
   ]
  },
  {
   "cell_type": "markdown",
   "id": "8ffb43e1",
   "metadata": {},
   "source": [
    "**(d)**\n",
    "$$\n",
    "x^4 + 27x \\\\\n",
    "= x(x^3 + 27) \\\\\n",
    "= x(x^3 + 3^3) \\\\\n",
    "$$\n",
    "\n",
    "Since $x^3 + 3^3$ is of the form $a^3 + b^3$, the _sum of cubes formula_ can be used:\n",
    "<br>\n",
    "\n",
    "$$\n",
    "a^3 + b^3 = (a + b)(a^2 - ab + b^2) \\\\\n",
    "\\therefore x(x^3 + 3^3) = x(x + 3)(x^2 - 3x + 9)\n",
    "$$\n",
    "\n"
   ]
  },
  {
   "cell_type": "code",
   "execution_count": 19,
   "id": "15907c91",
   "metadata": {},
   "outputs": [
    {
     "data": {
      "text/latex": [
       "$\\displaystyle x \\left(x + 3\\right) \\left(x^{2} - 3 x + 9\\right)$"
      ],
      "text/plain": [
       "x*(x + 3)*(x**2 - 3*x + 9)"
      ]
     },
     "execution_count": 19,
     "metadata": {},
     "output_type": "execute_result"
    }
   ],
   "source": [
    "x = sp.symbols(\"x\")\n",
    "sp.factor(x ** 4 + 27 * x)"
   ]
  },
  {
   "cell_type": "markdown",
   "id": "d6c92186",
   "metadata": {},
   "source": [
    "**(e)**\n",
    "$$\n",
    "3x^{3/2} - 9x^{1/2} + 6x^{-1/2} \\\\\n",
    "= 3x^{(-1/2 + 4/2)} - 9x^{(-1/2 + 2/2)} + 6x^{-1/2} \\\\\n",
    "= 3x^{-1/2}(x^2 - 3x + 2) \\\\\n",
    "= (3x^{-1/2})(x - 2)(x - 1)\n",
    "$$"
   ]
  },
  {
   "cell_type": "code",
   "execution_count": 20,
   "id": "9375fee2",
   "metadata": {},
   "outputs": [
    {
     "data": {
      "text/latex": [
       "$\\displaystyle 3 \\cdot \\left(\\frac{2}{x^{0.5}} - 3 x^{0.5} + x^{1.5}\\right)$"
      ],
      "text/plain": [
       "3*(2/x**0.5 - 3*x**0.5 + x**1.5)"
      ]
     },
     "execution_count": 20,
     "metadata": {},
     "output_type": "execute_result"
    }
   ],
   "source": [
    "x = sp.symbols(\"x\")\n",
    "sp.factor(3 * x ** (3/2) - 9 * x ** (1/2) + 6 * x ** (-1/2))"
   ]
  },
  {
   "cell_type": "markdown",
   "id": "baf7ad84",
   "metadata": {},
   "source": [
    "The answer given by the `sympy` module is not quite the expected result. This is likely to to the ambiguity and subjective judgment needed in terms of the solving the problem. Both answers are technically correct, but the manually solved answer is likely more useful in terms of practical use. \n",
    "\n",
    "**(f)**\n",
    "\n",
    "$$\n",
    "x^3y - 4xy \\\\\n",
    "= xy(x^2 - 4) \\\\\n",
    "= xy(x+2)(x-2)\n",
    "$$"
   ]
  },
  {
   "cell_type": "code",
   "execution_count": 21,
   "id": "c123fa48",
   "metadata": {},
   "outputs": [
    {
     "data": {
      "text/latex": [
       "$\\displaystyle x y \\left(x - 2\\right) \\left(x + 2\\right)$"
      ],
      "text/plain": [
       "x*y*(x - 2)*(x + 2)"
      ]
     },
     "execution_count": 21,
     "metadata": {},
     "output_type": "execute_result"
    }
   ],
   "source": [
    "x, y = sp.symbols(\"x y\")\n",
    "sp.factor(x ** 3 * y - 4 * x * y)"
   ]
  },
  {
   "cell_type": "markdown",
   "id": "44cda2b1",
   "metadata": {},
   "source": [
    "### Question 5\n",
    "**(a)**\n",
    "\n",
    "$$\n",
    "\\frac{x^2 + 3x + 2}{x^2 -x - 2} \\\\\n",
    "= \\frac{(x + 2)(x + 1)}{(x - 2)(x + 1)} \\\\\n",
    "= \\frac{x + 2}{x - 2}\n",
    "$$"
   ]
  },
  {
   "cell_type": "code",
   "execution_count": 22,
   "id": "c130f0c7",
   "metadata": {},
   "outputs": [
    {
     "data": {
      "text/latex": [
       "$\\displaystyle \\frac{x + 2}{x - 2}$"
      ],
      "text/plain": [
       "(x + 2)/(x - 2)"
      ]
     },
     "execution_count": 22,
     "metadata": {},
     "output_type": "execute_result"
    }
   ],
   "source": [
    "x = sp.symbols(\"x\")\n",
    "sp.simplify((x ** 2 + 3 * x + 2) / (x ** 2 - x - 2))"
   ]
  },
  {
   "cell_type": "markdown",
   "id": "2358a9c9",
   "metadata": {},
   "source": [
    "**(b)**\n",
    "\n",
    "$$\n",
    "\\frac{2x^2 - x - 1}{x^2 - 9} \\cdot \\frac{x + 3}{2x + 1} \\\\\n",
    "= \\frac{(2x + 1)(x - 1)}{(x + 3)(x - 3)} \\cdot \\frac{x + 3}{2x + 1} \\\\\n",
    "= \\frac{(2x + 1)(x - 1)(x + 3)}{(x + 3)(x - 3)(2x + 1)} \\\\\n",
    "= \\frac{x - 1}{x - 3} \\\\\n",
    "$$"
   ]
  },
  {
   "cell_type": "code",
   "execution_count": 23,
   "id": "f0fba869",
   "metadata": {},
   "outputs": [
    {
     "data": {
      "text/latex": [
       "$\\displaystyle \\frac{x - 1}{x - 3}$"
      ],
      "text/plain": [
       "(x - 1)/(x - 3)"
      ]
     },
     "execution_count": 23,
     "metadata": {},
     "output_type": "execute_result"
    }
   ],
   "source": [
    "x = sp.symbols(\"x\")\n",
    "sp.simplify(((2 * x ** 2 - x - 1) / (x ** 2 - 9)) * ((x + 3) / (2 * x + 1)))"
   ]
  },
  {
   "cell_type": "markdown",
   "id": "a563fcb5",
   "metadata": {},
   "source": [
    "**(c)**\n",
    "\n",
    "$$\n",
    "\\frac{x^2}{x^2 - 4} - \\frac{x + 1}{x + 2} \\\\ \n",
    "= \\frac{x^2}{(x + 2)(x - 2)} - \\frac{x + 1}{x + 2} \\\\ \n",
    "= \\frac{x^2}{(x + 2)(x - 2)} - \\frac{(x + 1)(x - 2)}{(x + 2)(x - 2)} \\\\\n",
    "= \\frac{x^2 - (x + 1)(x - 2)}{(x + 2)(x - 2)} \\\\\n",
    "= \\frac{x^2 - (x^2 - 2x + x - 2)}{(x + 2)(x - 2)} \\\\\n",
    "= \\frac{x^2 - x^2 + 2x - x + 2}{(x + 2)(x - 2)} \\\\\n",
    "= \\frac{x + 2}{(x + 2)(x - 2)} \\\\\n",
    "= \\frac{1}{x - 2}\n",
    "$$"
   ]
  },
  {
   "cell_type": "code",
   "execution_count": 24,
   "id": "dc5a27b9",
   "metadata": {},
   "outputs": [
    {
     "data": {
      "text/latex": [
       "$\\displaystyle \\frac{1}{x - 2}$"
      ],
      "text/plain": [
       "1/(x - 2)"
      ]
     },
     "execution_count": 24,
     "metadata": {},
     "output_type": "execute_result"
    }
   ],
   "source": [
    "x = sp.symbols(\"x\")\n",
    "sp.simplify((x ** 2 / (x ** 2 - 4) - (x + 1) / (x + 2)))"
   ]
  },
  {
   "cell_type": "markdown",
   "id": "0be0874f",
   "metadata": {},
   "source": [
    "**(d)**\n",
    "\n",
    "$$\n",
    "\\frac{\\frac{y}{x} - \\frac{x}{y}}{\\frac{1}{y} - \\frac{1}{x}} \\\\\n",
    "= \\frac{\\frac{y^2}{x} - x}{1 - \\frac{y}{x}} \\\\\n",
    "= \\frac{y^2 - x^2}{x - y} \\\\\n",
    "= \\frac{(y + x)(y - x)}{x - y} \\\\\n",
    "= \\frac{(y + x)(y - x)}{-(y - x)} \\\\\n",
    "= -x - y\n",
    "$$"
   ]
  },
  {
   "cell_type": "code",
   "execution_count": 25,
   "id": "701aaf3b",
   "metadata": {},
   "outputs": [
    {
     "data": {
      "text/latex": [
       "$\\displaystyle - x - y$"
      ],
      "text/plain": [
       "-x - y"
      ]
     },
     "execution_count": 25,
     "metadata": {},
     "output_type": "execute_result"
    }
   ],
   "source": [
    "x, y = sp.symbols(\"x y\")\n",
    "sp.simplify(((y / x) - (x / y))/ (1 / y - 1 / x))"
   ]
  },
  {
   "cell_type": "markdown",
   "id": "f20f301e",
   "metadata": {},
   "source": [
    "### Question 6\n",
    "**(a)**\n",
    "\n",
    "$$\n",
    "\\frac{\\sqrt{10}}{\\sqrt{5} - 2} \\\\\n",
    "= \\frac{\\sqrt{10}}{\\sqrt{5} - 2} \\cdot \\frac{\\sqrt{5} + 2}{\\sqrt{5} + 2} \\\\\n",
    "= \\frac{\\sqrt{50} + 2\\sqrt{10}}{5 + 2\\sqrt{5} - 2\\sqrt{5} - 4} \\\\\n",
    "= \\frac{\\sqrt{25 \\cdot 2} + 2\\sqrt{10}}{1} \\\\\n",
    "= 5\\sqrt{2} + 2\\sqrt{10}\n",
    "$$"
   ]
  },
  {
   "cell_type": "code",
   "execution_count": 26,
   "id": "5bb291c3",
   "metadata": {},
   "outputs": [
    {
     "data": {
      "text/latex": [
       "$\\displaystyle 2 \\sqrt{10} + 5 \\sqrt{2}$"
      ],
      "text/plain": [
       "2*sqrt(10) + 5*sqrt(2)"
      ]
     },
     "execution_count": 26,
     "metadata": {},
     "output_type": "execute_result"
    }
   ],
   "source": [
    "sp.simplify(sp.sqrt(10) / (sp.sqrt(5) - 2))"
   ]
  },
  {
   "cell_type": "markdown",
   "id": "d31800d9",
   "metadata": {},
   "source": [
    "**(b)**\n",
    "\n",
    "$$\n",
    "\\frac{\\sqrt{4 + h} - 2}{h} \\\\\n",
    "= \\frac{\\sqrt{4 + h} - 2}{h} \\cdot \\frac{\\sqrt{4 + h} + 2}{\\sqrt{4 + h} + 2} \\\\\n",
    "= \\frac{(4 + h) + 2\\sqrt{4 + h} - 2\\sqrt{4 + h} - 4}{h\\sqrt{4 + h} + 2} \\\\\n",
    "= \\frac{h}{h(\\sqrt{4 + h} + 2)} \\\\\n",
    "= \\frac{1}{\\sqrt{4 + h} + 2}\n",
    "$$\n",
    "\n",
    "I am unsure how this would be rationalized with sympy."
   ]
  },
  {
   "cell_type": "markdown",
   "id": "2ea87a63",
   "metadata": {},
   "source": [
    "### Question 7\n",
    "**(a)**\n"
   ]
  },
  {
   "cell_type": "markdown",
   "id": "b3ba97a8",
   "metadata": {},
   "source": [
    "$$\n",
    "x^2 + x + 1 \\\\\n",
    "= x^2 + x + \\frac{1}{4} - \\frac{1}{4} + 1 \\\\\n",
    "= x^2 + x + \\frac{1}{4} + \\frac{3}{4} \\\\\n",
    "= \\left(x + \\frac{1}{2}\\right)^2 + \\frac{3}{4}\n",
    "$$\n",
    "I do not think `sympy` has a default function to solve the square."
   ]
  },
  {
   "cell_type": "markdown",
   "id": "a939b9a6",
   "metadata": {},
   "source": [
    "**(b)**\n",
    "\n",
    "$$\n",
    "2x^2 - 12x + 11 \\\\\n",
    "= 2(x^2 - 6x + 9 - 9) + 11 \\\\\n",
    "= 2(x^2 - 6x + 9) - 18 + 11 \\\\\n",
    "= 2(x -3)^2 - 7\n",
    "$$"
   ]
  },
  {
   "cell_type": "markdown",
   "id": "65a338de",
   "metadata": {},
   "source": [
    "### Question 8\n",
    "**(a)**\n",
    "\n",
    "$$\n",
    "x + 5 = 14 - \\frac{1}{2}x \\\\\n",
    "\\Rightarrow 2x + 10 = 28 - x \\\\\n",
    "\\Rightarrow 3x = 18 \\\\\n",
    "\\Rightarrow x = 6\n",
    "$$"
   ]
  },
  {
   "cell_type": "code",
   "execution_count": 27,
   "id": "669d7c25",
   "metadata": {},
   "outputs": [
    {
     "data": {
      "text/latex": [
       "$\\displaystyle 6.0$"
      ],
      "text/plain": [
       "6.00000000000000"
      ]
     },
     "execution_count": 27,
     "metadata": {},
     "output_type": "execute_result"
    }
   ],
   "source": [
    "x = sp.symbols(\"x\")\n",
    "sp.solve(sp.Eq(x + 5, 14 - (1/2) * x), x)[0]"
   ]
  },
  {
   "cell_type": "markdown",
   "id": "fe1e777c",
   "metadata": {},
   "source": [
    "**(b)**\n",
    "\n",
    "$$\n",
    "\\frac{2x}{x + 1} = \\frac{2x - 1}{x} \\\\\n",
    "\\Rightarrow 2x^2 = (2x - 1)(x + 1) \\\\\n",
    "\\Rightarrow 2x^2 = 2x^2 + 2x - x - 1 \\\\\n",
    "\\Rightarrow 2x^2 = 2x^2 + x - 1 \\\\\n",
    "\\Rightarrow x - 1 = 0 \\\\\n",
    "\\Rightarrow x = 1\n",
    "$$"
   ]
  },
  {
   "cell_type": "code",
   "execution_count": 28,
   "id": "5d4ac2f1",
   "metadata": {},
   "outputs": [
    {
     "data": {
      "text/latex": [
       "$\\displaystyle 1$"
      ],
      "text/plain": [
       "1"
      ]
     },
     "execution_count": 28,
     "metadata": {},
     "output_type": "execute_result"
    }
   ],
   "source": [
    "x = sp.symbols(\"x\")\n",
    "sp.solve(sp.Eq(2 * x  / (x + 1), (2 * x - 1) / x), x)[0]"
   ]
  },
  {
   "cell_type": "markdown",
   "id": "4b398247",
   "metadata": {},
   "source": [
    "**(c)**\n",
    "\n",
    "$$\n",
    "x^2 - x - 12 = 0 \\\\\n",
    "\\Rightarrow x^2 - x = 12 \\\\\n",
    "\\Rightarrow x^2 - x + 0.25 = 12.25 \\\\\n",
    "\\Rightarrow (x - 0.5)^2 = 12.25 \\\\ \n",
    "\\Rightarrow x - 0.5 = \\pm \\space 3.5 \\\\\n",
    "\\Rightarrow x \\in \\{-3, 4\\}\n",
    "$$"
   ]
  },
  {
   "cell_type": "code",
   "execution_count": 29,
   "id": "575390cf",
   "metadata": {},
   "outputs": [
    {
     "data": {
      "text/plain": [
       "[-3, 4]"
      ]
     },
     "execution_count": 29,
     "metadata": {},
     "output_type": "execute_result"
    }
   ],
   "source": [
    "x = sp.symbols(\"x\")\n",
    "sp.solve(sp.Eq(x ** 2 - x - 12, 0), x)"
   ]
  },
  {
   "cell_type": "markdown",
   "id": "84ac28c2",
   "metadata": {},
   "source": [
    "**(d)**\n",
    "\n",
    "$$\n",
    "2x^2 + 4x + 1 = 0 \\\\\n",
    "\\Rightarrow 2(x^2 + 2x) + 1 = 0 \\\\\n",
    "\\Rightarrow 2(x^2 + 2x + 1 - 1) + 1 = 0 \\\\\n",
    "\\Rightarrow 2(x^2 + 2x + 1) - 2 + 1 = 0 \\\\\n",
    "\\Rightarrow 2(x + 1)^2 - 1 = 0 \\\\\n",
    "\\Rightarrow 2(x + 1)^2 = 1 \\\\\n",
    "\\Rightarrow (x + 1)^2 = 0.5 \\\\\n",
    "\\Rightarrow x + 1 = \\pm \\space \\sqrt{0.5} \\\\\n",
    "\\Rightarrow x = -1 \\pm \\space \\sqrt{0.5} \\\\\n",
    "$$"
   ]
  },
  {
   "cell_type": "code",
   "execution_count": 30,
   "id": "94ac8c33",
   "metadata": {},
   "outputs": [
    {
     "data": {
      "text/plain": [
       "[-1 - sqrt(2)/2, -1 + sqrt(2)/2]"
      ]
     },
     "execution_count": 30,
     "metadata": {},
     "output_type": "execute_result"
    }
   ],
   "source": [
    "x = sp.symbols(\"x\")\n",
    "sp.solve(sp.Eq(2 * x ** 2 + 4 * x + 1, 0), x)"
   ]
  },
  {
   "cell_type": "markdown",
   "id": "a4771ff0",
   "metadata": {},
   "source": [
    "Checking that our answer is correct:"
   ]
  },
  {
   "cell_type": "code",
   "execution_count": 31,
   "id": "e21d737f",
   "metadata": {},
   "outputs": [
    {
     "data": {
      "text/plain": [
       "True"
      ]
     },
     "execution_count": 31,
     "metadata": {},
     "output_type": "execute_result"
    }
   ],
   "source": [
    "sqrt(0.5) == sqrt(2)/2"
   ]
  },
  {
   "cell_type": "markdown",
   "id": "890c419a",
   "metadata": {},
   "source": [
    "**(e)**\n",
    "$$\n",
    "x^4 - 3x^2 + 2 = 0\n",
    "$$\n",
    "\n",
    "To solve for $x$ we first substitute $x^2$ with $u$:\n",
    "$$\n",
    "u^2 - 3u + 2 = 0 \\\\\n",
    "\\Rightarrow (u - 2)(u - 1) = 0 \\\\\n",
    "\\Rightarrow (x^2 - 2)(x^2 - 1) = 0\n",
    "$$\n",
    "\n",
    "If one of the bracketed expressions equals zero, then the whole expression should equal zero.\n",
    "<br><br>\n",
    "Solving for $(x^2 - 2)$:\n",
    "$$\n",
    "x^2 - 2 = 0 \\\\\n",
    "\\Rightarrow x^2 = 2 \\\\\n",
    "\\Rightarrow x = \\pm \\sqrt{2} \\\\\n",
    "$$\n",
    "<br><br>\n",
    "\n",
    "Solving for $(x^2 - 1)$:\n",
    "$$\n",
    "x^2 - 1 = 0 \\\\\n",
    "\\Rightarrow x^2 = 1 \\\\\n",
    "\\Rightarrow x = \\pm 1\n",
    "$$\n",
    "<br><br>\n",
    "$$\n",
    "\\therefore x \\in \\{-1, -\\sqrt{2}, \\sqrt{2}, 1\\}\n",
    "$$"
   ]
  },
  {
   "cell_type": "code",
   "execution_count": 32,
   "id": "db0f72a4",
   "metadata": {},
   "outputs": [
    {
     "data": {
      "text/plain": [
       "[-1, 1, -sqrt(2), sqrt(2)]"
      ]
     },
     "execution_count": 32,
     "metadata": {},
     "output_type": "execute_result"
    }
   ],
   "source": [
    "x = sp.symbols(\"x\")\n",
    "sp.solve(sp.Eq(x ** 4 - 3 * x ** 2 + 2, 0), x)"
   ]
  },
  {
   "cell_type": "markdown",
   "id": "e8289882",
   "metadata": {},
   "source": [
    "**(f)**\n",
    "\n",
    "$$\n",
    "3 \\vert x - 4 \\vert = 10 \\\\\n",
    "\\Rightarrow \\vert x - 4 \\vert = \\frac{10}{3} \\\\\n",
    "\\Rightarrow x - 4 = \\pm \\frac{10}{3} \\\\\n",
    "\\Rightarrow x = 4 \\pm \\frac{10}{3} \\\\\n",
    "\\Rightarrow x = \\frac{12}{3} \\pm \\frac{10}{3} \\\\\n",
    "\\Rightarrow x \\in \\left\\{\\frac{2}{3}, \\frac{22}{3}\\right\\}\n",
    "$$"
   ]
  },
  {
   "cell_type": "code",
   "execution_count": 33,
   "id": "ac32e4b8",
   "metadata": {},
   "outputs": [
    {
     "data": {
      "text/plain": [
       "[2/3, 22/3]"
      ]
     },
     "execution_count": 33,
     "metadata": {},
     "output_type": "execute_result"
    }
   ],
   "source": [
    "x = sp.symbols(\"x\", real = True)\n",
    "sp.solve(sp.Eq(3 * sp.Abs(x - 4), 10), x)"
   ]
  },
  {
   "cell_type": "markdown",
   "id": "7ad657a9",
   "metadata": {},
   "source": [
    "**(g)**\n",
    "\n",
    "$$\n",
    "2x(4 - x)^{-1/2} - 3\\sqrt{4 - x} = 0 \\\\\n",
    "\\Rightarrow \\frac{2x}{\\sqrt{4 - x}} - 3\\sqrt{4 - x} = 0 \\\\\n",
    "\\Rightarrow 2x - 3\\left(\\sqrt{4 - x}\\right)^2 = 0 \\\\\n",
    "\\Rightarrow 2x - 3(4 - x) = 0 \\\\\n",
    "\\Rightarrow 2x - 12 + 3x = 0 \\\\\n",
    "\\Rightarrow 5x - 12 = 0 \\\\\n",
    "\\Rightarrow 5x = 12 \\\\\n",
    "\\Rightarrow x = \\frac{12}{5}\n",
    "$$"
   ]
  },
  {
   "cell_type": "code",
   "execution_count": 34,
   "id": "d0c4efe3",
   "metadata": {},
   "outputs": [
    {
     "data": {
      "text/latex": [
       "$\\displaystyle 2.4$"
      ],
      "text/plain": [
       "2.40000000000000"
      ]
     },
     "execution_count": 34,
     "metadata": {},
     "output_type": "execute_result"
    }
   ],
   "source": [
    "x = sp.symbols(\"x\")\n",
    "sp.solve(sp.Eq(2 * x * (4 - x) ** (-1/2) - 3 * sp.sqrt(4 - x), 0), x)[0]"
   ]
  },
  {
   "cell_type": "markdown",
   "id": "002ef68f",
   "metadata": {},
   "source": [
    "### Question 9\n",
    "**(a)**\n",
    "\n",
    "$$\n",
    "-4 < 5 - 3x \\le 17 \\\\\n",
    "\\Rightarrow -9 < -3x \\le 12 \\\\\n",
    "\\Rightarrow 3 > x \\ge -4 \\\\\n",
    "\\Rightarrow -4 \\le x < 3 \\\\\n",
    "$$\n",
    "\n",
    "Interval notation: \n",
    "$[-4, 3)$"
   ]
  },
  {
   "cell_type": "markdown",
   "id": "7982218d",
   "metadata": {},
   "source": [
    "**(b)**\n",
    "\n",
    "$$\n",
    "x^2 < 2x + 8 \\\\\n",
    "\\Rightarrow x^2 - 2x < 8 \\\\\n",
    "\\Rightarrow x^2 - 2x - 8 < 0 \\\\\n",
    "\\Rightarrow (x - 4)(x + 2) < 0\n",
    "$$\n",
    "\n",
    "Solving for $(x - 4)$:\n",
    "$$\n",
    "x - 4 = 0 \\\\\n",
    "\\Rightarrow x = 4\n",
    "$$\n",
    "<br><br>\n",
    "\n",
    "Solving for $(x + 2)$:\n",
    "$$\n",
    "x + 2 = 0 \\\\\n",
    "\\Rightarrow x = -2\n",
    "$$\n",
    "\n",
    "Creating a table for each interval:\n",
    "<br><br>\n",
    "$$\n",
    "\\begin{array}{|r|r|}\n",
    "\\hline Interval & x - 4 & x + 2 & (x - 4)(x + 2) \\\\\n",
    "\\hline x < -2 & - & - & + \\\\\n",
    "\\hline -2 < x < 4 & - & + & - \\\\\n",
    "\\hline x > 4 & + & + & + \\\\\n",
    "\\hline  \n",
    "\\end{array}\n",
    "$$\n",
    "<br>\n",
    "\n",
    "The expression is less than zero when $x$ is a value from -2 to 4. Therefore the interval notation is as follows: $(-2, 4)$"
   ]
  },
  {
   "cell_type": "markdown",
   "id": "37199983",
   "metadata": {},
   "source": [
    "**(c)**\n",
    "\n",
    "$$\n",
    "x(x - 1)(x + 2) > 0 \\\\\n",
    "$$\n",
    "\n",
    "Creating a table for each interval: \n",
    "$$\n",
    "\\begin{array}{|r|r|}\n",
    "\\hline Interval & x & (x - 1) & (x + 2) & x(x - 1)(x + 2) \\\\\n",
    "\\hline x < -2 & - & - & - & - \\\\\n",
    "\\hline -2 < x < 0 & - & - & + & + \\\\\n",
    "\\hline 0 < x < 1 & + & - & + & - \\\\\n",
    "\\hline x > 1 & + & + & + & + \\\\\n",
    "\\hline\n",
    "\\end {array}\n",
    "$$\n",
    "<br>\n",
    "\n",
    "The interval notation is $(-2, 0) \\cup (1, \\infty)$ because the expression evaluates to positive values; which are greater than zero."
   ]
  },
  {
   "cell_type": "markdown",
   "id": "aa5aa79a",
   "metadata": {},
   "source": [
    "**(d)**\n",
    "\n",
    "$$\n",
    "\\vert x - 4 \\vert < 3 \\\\\n",
    "\\Rightarrow -3 < x - 4 < 3 \n",
    "$$\n",
    "\n",
    "In other words, as long as $(x - 4)$ is above -3 and below 3, $\\vert x - 4 \\vert$ should evaluate to be below 3. For problems, such as this one, it is often useful to draw a number line to guide one's thinking process.\n",
    "<br><br>\n",
    "\n",
    "Finishing our evaluation:\n",
    "$$\n",
    "\\Rightarrow 1 < x < 7\n",
    "$$\n",
    "<br>\n",
    "In interval notation: $(1, 7)$."
   ]
  },
  {
   "cell_type": "markdown",
   "id": "693f10ee",
   "metadata": {},
   "source": [
    "**(e)**\n",
    "\n",
    "$$\n",
    "\\frac{2x -3}{x + 1} \\le 1 \\\\\n",
    "\\Rightarrow \\frac{2x - 3}{x + 1} - 1 \\le 0 \\\\\n",
    "\\Rightarrow \\frac{2x - 3}{x + 1} - \\frac{x + 1}{x + 1} \\le 0 \\\\\n",
    "\\Rightarrow \\frac{2x - 3 - x - 1}{x + 1} \\le 0 \\\\\n",
    "\\Rightarrow \\frac{x - 4}{x + 1} \\le 0 \\\\\n",
    "$$\n",
    "\n",
    "Creating a table for each interval:\n",
    "$$\n",
    "\\begin {array}{|r|r|}\n",
    "\\hline Interval & x - 4 & x + 1 & (2x - 3)(x + 1)^{-1} \\\\\n",
    "\\hline x < -1 & - & - & + \\\\\n",
    "\\hline -1 < x < 4 & - & + & - \\\\\n",
    "\\hline x > 4 & + & + & + \\\\\n",
    "\\hline\n",
    "\\end {array}\n",
    "$$\n",
    "<br>\n",
    "\n",
    "In interval notation: $(-1, 4]$. Note that the expression is undefined for $(x = -1)$ because we can not divide by zero."
   ]
  },
  {
   "cell_type": "markdown",
   "id": "e41b2c9a",
   "metadata": {},
   "source": [
    "### Question 10\n",
    "**(a)**\n",
    "\n",
    "$$\n",
    "(p + q)^2 \\ne p^2 + p^2 \\\\ \n",
    "\\Rightarrow p^2 + 2pq + q^2 \\ne p^2 + p^2\n",
    "$$"
   ]
  },
  {
   "cell_type": "code",
   "execution_count": 35,
   "id": "541f44f7",
   "metadata": {},
   "outputs": [
    {
     "data": {
      "text/plain": [
       "False"
      ]
     },
     "execution_count": 35,
     "metadata": {},
     "output_type": "execute_result"
    }
   ],
   "source": [
    "p, q = sp.symbols(\"p q\")\n",
    "(p + q) ** 2 == p ** 2 + q ** 2"
   ]
  },
  {
   "cell_type": "markdown",
   "id": "8e8a1526",
   "metadata": {},
   "source": [
    "**(b)**\n",
    "\n",
    "$$\n",
    "\\sqrt{ab} = \\sqrt{a} \\sqrt{b}\n",
    "$$\n",
    "\n",
    "The above statement is correct."
   ]
  },
  {
   "cell_type": "code",
   "execution_count": 36,
   "id": "9f2f1f8c",
   "metadata": {},
   "outputs": [
    {
     "data": {
      "text/plain": [
       "True"
      ]
     },
     "execution_count": 36,
     "metadata": {},
     "output_type": "execute_result"
    }
   ],
   "source": [
    "a, b = sp.symbols(\"a b\", positive = True)\n",
    "sp.sqrt(a * b) == sp.sqrt(a) * sp.sqrt(b)"
   ]
  },
  {
   "cell_type": "markdown",
   "id": "40ffbda9",
   "metadata": {},
   "source": [
    "Interestingly, this does not evaluate to true by default in `sympy`. According to [sympy's documentation](https://docs.sympy.org/latest/explanation/gotchas.html), this is because the variables in radical form are assumed to be complex numbers by default."
   ]
  },
  {
   "cell_type": "markdown",
   "id": "e95914dd",
   "metadata": {},
   "source": [
    "**(c)**\n",
    "\n",
    "$$\n",
    "\\sqrt{a^2 + b^2} \\ne a + b\n",
    "$$\n",
    "\n",
    "There is no such rule that allows expressions to be evaluated this way in radical form."
   ]
  },
  {
   "cell_type": "code",
   "execution_count": 37,
   "id": "eebee56d",
   "metadata": {},
   "outputs": [
    {
     "data": {
      "text/plain": [
       "False"
      ]
     },
     "execution_count": 37,
     "metadata": {},
     "output_type": "execute_result"
    }
   ],
   "source": [
    "a, b = sp.symbols(\"a b\", positive = True)\n",
    "sp.sqrt(a **2 + b **2) == (a + b)"
   ]
  },
  {
   "cell_type": "markdown",
   "id": "ab2afd01",
   "metadata": {},
   "source": [
    "**(d)**\n",
    "\n",
    "$$\n",
    "\\frac{1 + TC}{C} \\ne 1 + T\n",
    "$$\n",
    "\n",
    "The only way this expression could be true is if $C = 1$."
   ]
  },
  {
   "cell_type": "markdown",
   "id": "2eec6c7c",
   "metadata": {},
   "source": [
    "**(e)**\n",
    "\n",
    "$$\n",
    "\\frac{1}{x - y} \\ne \\frac{1}{x} - \\frac{1}{y}\n",
    "$$"
   ]
  },
  {
   "cell_type": "markdown",
   "id": "f1243aa3",
   "metadata": {},
   "source": [
    "**(f)**\n",
    "\n",
    "$$\n",
    "\\frac{1/x}{a/x - b/x} = \\frac{1}{a - b} \\\\\n",
    "\\Rightarrow \\frac{1}{a - b} = \\frac{1}{a - b}\n",
    "$$\n",
    "\n",
    "The above statement is correct. If we multiply the fraction by $x$, it can be seen that the expression is equivalent."
   ]
  }
 ],
 "metadata": {
  "hide_input": false,
  "kernelspec": {
   "display_name": "Python 3 (ipykernel)",
   "language": "python",
   "name": "python3"
  },
  "language_info": {
   "codemirror_mode": {
    "name": "ipython",
    "version": 3
   },
   "file_extension": ".py",
   "mimetype": "text/x-python",
   "name": "python",
   "nbconvert_exporter": "python",
   "pygments_lexer": "ipython3",
   "version": "3.10.8"
  }
 },
 "nbformat": 4,
 "nbformat_minor": 5
}
