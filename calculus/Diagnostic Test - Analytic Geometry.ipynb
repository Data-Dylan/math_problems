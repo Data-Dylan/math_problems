{
 "cells": [
  {
   "cell_type": "code",
   "execution_count": 1,
   "id": "48ff910c",
   "metadata": {},
   "outputs": [],
   "source": [
    "# Software packages.\n",
    "import numpy as np\n",
    "from matplotlib import pyplot as plt\n",
    "from matplotlib.patches import Rectangle, Circle, Ellipse\n",
    "\n",
    "# Function that creates a plot of a rectangle.\n",
    "def rect_plot(start_coords,\n",
    "              width,\n",
    "              height,\n",
    "              linestyle = \"-\",\n",
    "              square_lim = [-5, 5]):\n",
    "\n",
    "    # Create figure and axis.\n",
    "    fig, ax = plt.subplots()\n",
    "\n",
    "    # Add faded gridlines.\n",
    "    plt.grid(alpha = 0.1)\n",
    "\n",
    "    # Set coordinate display limits.\n",
    "    ax.set_xlim(square_lim)\n",
    "    ax.set_ylim(square_lim)\n",
    "\n",
    "    # Create the rectangle to add to the plot.\n",
    "    rect = Rectangle(start_coords,\n",
    "                     width = width,\n",
    "                     height = height,\n",
    "                     edgecolor = \"red\",\n",
    "                     linewidth = 1.5,\n",
    "                     linestyle = linestyle)\n",
    "\n",
    "    # Add rectangle to the plot.\n",
    "    ax.add_patch(rect)\n",
    "\n",
    "    # Add x,y labels to plot.\n",
    "    label_color = \"grey\"\n",
    "    label_fontsize = 12\n",
    "    ax.set_xlabel(\"$x$\",\n",
    "                  loc = \"right\",\n",
    "                  fontsize = label_fontsize,\n",
    "                  color = label_color)\n",
    "    ax.set_ylabel(\"$y$\",\n",
    "                  loc = \"top\",\n",
    "                  rotation = 0,\n",
    "                  fontsize = label_fontsize,\n",
    "                  color = label_color)\n",
    "\n",
    "    # Show the plot.\n",
    "    plt.show();\n",
    "    \n",
    "# Function that creates a plot of a rectangle.\n",
    "def circle_plot(center, radis,\n",
    "                fill = True,\n",
    "                linestyle = \"-\",\n",
    "                square_lim = [-5, 5]):\n",
    "\n",
    "    # Create figure and axis.\n",
    "    fig, ax = plt.subplots()\n",
    "\n",
    "    # Add faded gridlines.\n",
    "    plt.grid(alpha = 0.1)\n",
    "\n",
    "    # Set coordinate display limits.\n",
    "    ax.set_xlim(square_lim)\n",
    "    ax.set_ylim(square_lim)\n",
    "\n",
    "    # Create the circle to add to the plot.\n",
    "    circle = Circle(center, \n",
    "                  radius, \n",
    "                  edgecolor = \"red\",\n",
    "                  linewidth = 1.5,\n",
    "                  linestyle = linestyle,\n",
    "                   fill = fill)\n",
    "\n",
    "    # Add rectangle to the plot.\n",
    "    ax.add_patch(circle)\n",
    "\n",
    "    # Add x,y labels to plot.\n",
    "    label_color = \"grey\"\n",
    "    label_fontsize = 12\n",
    "    ax.set_xlabel(\"$x$\",\n",
    "                  loc = \"right\",\n",
    "                  fontsize = label_fontsize,\n",
    "                  color = label_color)\n",
    "    ax.set_ylabel(\"$y$\",\n",
    "                  loc = \"top\",\n",
    "                  rotation = 0,\n",
    "                  fontsize = label_fontsize,\n",
    "                  color = label_color)\n",
    "\n",
    "    # Show the plot.\n",
    "    plt.show();\n",
    "\n",
    "    \n",
    "# Function that creates a plot of a rectangle.\n",
    "def ellipse_plot(center, \n",
    "                width,\n",
    "                height,\n",
    "                fill = True,\n",
    "                linestyle = \"-\",\n",
    "                square_lim = [-5, 5]):\n",
    "\n",
    "    # Create figure and axis.\n",
    "    fig, ax = plt.subplots()\n",
    "\n",
    "    # Add faded gridlines.\n",
    "    plt.grid(alpha = 0.1)\n",
    "\n",
    "    # Set coordinate display limits.\n",
    "    ax.set_xlim(square_lim)\n",
    "    ax.set_ylim(square_lim)\n",
    "\n",
    "    # Create the circle to add to the plot.\n",
    "    circle = Ellipse(center, \n",
    "                        width, \n",
    "                        height, \n",
    "                        edgecolor = \"red\",\n",
    "                        linewidth = 1.5,\n",
    "                        linestyle = linestyle,\n",
    "                        fill = fill)\n",
    "\n",
    "    # Add rectangle to the plot.\n",
    "    ax.add_patch(circle)\n",
    "\n",
    "    # Add x,y labels to plot.\n",
    "    label_color = \"grey\"\n",
    "    label_fontsize = 12\n",
    "    ax.set_xlabel(\"$x$\",\n",
    "                  loc = \"right\",\n",
    "                  fontsize = label_fontsize,\n",
    "                  color = label_color)\n",
    "    ax.set_ylabel(\"$y$\",\n",
    "                  loc = \"top\",\n",
    "                  rotation = 0,\n",
    "                  fontsize = label_fontsize,\n",
    "                  color = label_color)\n",
    "\n",
    "    # Show the plot.\n",
    "    plt.show();\n",
    "    \n",
    "# Graph for shading between two functions. \n",
    "def shade_between(x, y1, y2, linestyle = \"-\", square_lim = [-5, 5]):\n",
    "    \n",
    "    # Create figure and axis.\n",
    "    fig, ax = plt.subplots()\n",
    "    \n",
    "    # Call function to shade between two functions.\n",
    "    ax.fill_between(x, y1, y2,\n",
    "                    edgecolor = \"red\",\n",
    "                    linewidth = 1.5,\n",
    "                    linestyle = linestyle)\n",
    "    \n",
    "    # Add faded gridlines.\n",
    "    plt.grid(alpha = 0.1)\n",
    "\n",
    "    # Set coordinate display limits.\n",
    "    ax.set_xlim(square_lim)\n",
    "    ax.set_ylim(square_lim)\n",
    "    \n",
    "    # Add x,y labels to plot.\n",
    "    label_color = \"grey\"\n",
    "    label_fontsize = 12\n",
    "    ax.set_xlabel(\"$x$\",\n",
    "                  loc = \"right\",\n",
    "                  fontsize = label_fontsize,\n",
    "                  color = label_color)\n",
    "    ax.set_ylabel(\"$y$\",\n",
    "                  loc = \"top\",\n",
    "                  rotation = 0,\n",
    "                  fontsize = label_fontsize,\n",
    "                  color = label_color)\n",
    "    \n",
    "    \n",
    "    # Show the plot.\n",
    "    plt.show();"
   ]
  },
  {
   "cell_type": "markdown",
   "id": "24fbc56a",
   "metadata": {},
   "source": [
    "### Question 1\n",
    "**(a)**\n",
    "\n",
    "We know that the line passes through (2, -5) and that the slope is -3. Therefore we can evaluate the y-intercept as follows:\n",
    "\n",
    "$$\n",
    "y = mx + b \\\\\n",
    "\\Rightarrow (-5) = (-3)(2) + b \\\\\n",
    "\\Rightarrow (-5) = -6 + b \\\\\n",
    "\\Rightarrow b = 1\n",
    "$$\n",
    "\n",
    "The line's equation is $y = -3x + 1$."
   ]
  },
  {
   "cell_type": "markdown",
   "id": "9e76705c",
   "metadata": {},
   "source": [
    "**(b)**\n",
    "\n",
    "In order to be parallel with the $x$-axis and pass through (2, -5), the line would have to horizontal at that point. Therefore, $y = -5$"
   ]
  },
  {
   "cell_type": "markdown",
   "id": "143eeac6",
   "metadata": {},
   "source": [
    "**(c)**\n",
    "\n",
    "Using similar logic as before, the equation would have to be $x = 2$."
   ]
  },
  {
   "cell_type": "markdown",
   "id": "961e68b6",
   "metadata": {},
   "source": [
    "**(d)**\n",
    "\n",
    "First we reformat the line formula that the equation is parallel to.\n",
    "$$\n",
    "2x - 4y = 3 \\\\\n",
    "\\Rightarrow - 4y = -2x + 3 \\\\\n",
    "\\Rightarrow 4y = 2x - 3 \\\\\n",
    "\\Rightarrow y = 0.5x - 1.5 \\\\\n",
    "$$\n",
    "<br>\n",
    "\n",
    "Since the formula is parallel, it should be the same, except for the y-intercept. To solve for the y-intercept, we can use the fact that the line passes through (2, -5).\n",
    "\n",
    "$$\n",
    "y = 0.5x - b \\\\\n",
    "\\Rightarrow (-5) = 0.5(2) + b \\\\\n",
    "\\Rightarrow (-5) = 0.5(2) + b \\\\\n",
    "\\Rightarrow (-5) = 1 + b \\\\\n",
    "\\Rightarrow b = -5 - 1 \\\\\n",
    "\\Rightarrow b = -6 \\\\\n",
    "$$\n",
    "\n",
    "Therefore, the line formula should be $y = 0.5x - 6$."
   ]
  },
  {
   "cell_type": "markdown",
   "id": "b366a092",
   "metadata": {},
   "source": [
    "### Question 2\n",
    "A circle has a standard equation of the form:\n",
    "$$\n",
    "r^2 = (x - a)^2 + (y - b)^2\n",
    "$$\n",
    "\n",
    "where:\n",
    " * $r$ is the radius.\n",
    " * $(a, b)$ is the center point of the circle\n",
    " \n",
    "Plugging our center point coordinates and the point that we know the circle passes through, we can get the radius squared (r^2):\n",
    "$$\n",
    "r^2 = (x - a)^2 + (y - b)^2 \\\\\n",
    "\\Rightarrow r^2 = ((3) - (-1))^2 + ((-2) - (4))^2 \\\\\n",
    "\\Rightarrow r^2 = (4)^2 + (-6)^2 \\\\\n",
    "\\Rightarrow r^2 = 16 + 36 \\\\\n",
    "\\Rightarrow r^2 = 52 \n",
    "$$\n",
    "\n",
    "Therefore, the equation of the circle is as follows:\n",
    "$$\n",
    "52 = (x + 1)^2 + (y - 4)^2\n",
    "$$"
   ]
  },
  {
   "cell_type": "markdown",
   "id": "656998de",
   "metadata": {},
   "source": [
    "### Question 3\n",
    "\n",
    "To find the center and radius, we first need to put our equation into its standard form:\n",
    "$$\n",
    "x^2 + y^2 - 6x + 10y + 9 = 0 \\\\\n",
    "\\Rightarrow (x^2 - 6x + 9) + (y^2 + 10y + 25) - 25 = 0 \\\\\n",
    "\\Rightarrow (x^2 - 6x + 9) + (y^2 + 10y + 25) = 25 \\\\\n",
    "\\Rightarrow (x - 3)^2 + (y + 5)^2 = 25 \n",
    "$$\n",
    "\n",
    "From the equation, we can tell that $r = 5$ and that the center is at $(3, -5)$."
   ]
  },
  {
   "cell_type": "markdown",
   "id": "4993f82b",
   "metadata": {},
   "source": [
    "### Question 4\n",
    "**(a)**\n",
    "\n",
    "$$\n",
    "m = \\frac{y_2 - y_1}{x_2 - x_1} \\\\\n",
    "\\Rightarrow m = \\frac{(-12) - (4)}{(5) - (-7)} \\\\\n",
    "\\Rightarrow m = \\frac{-16}{12} \\\\\n",
    "\\Rightarrow m = -\\frac{4}{3} \n",
    "$$"
   ]
  },
  {
   "cell_type": "markdown",
   "id": "2927bcbf",
   "metadata": {},
   "source": [
    "**(b)**\n",
    "\n",
    "$$\n",
    "y = mx + b \\\\\n",
    "\\Rightarrow b = y - mx \\\\\n",
    "\\Rightarrow b = (4) - \\left( -\\frac{4}{3} \\right)(-7) \\\\\n",
    "\\Rightarrow b = \\frac{12}{3} - \\frac{28}{3} \\\\\n",
    "\\Rightarrow b = -\\frac{16}{3}\n",
    "$$\n",
    "\n",
    "The equation of the line is the following:\n",
    "$$\n",
    "y = -\\frac{4}{3}x - \\frac{16}{3}\n",
    "$$\n",
    "\n",
    "The y-intercept is what $b$ represents in the linear equation. To find the x-intercept, we can simply rearrange the equation, then plug zero into $y$. \n",
    "$$\n",
    "y = mx + b \\\\\n",
    "\\Rightarrow y - b = mx \\\\\n",
    "\\Rightarrow x = \\frac{y - b}{m} \\\\\n",
    "\\Rightarrow x = \\frac{(0) - \\left( -\\frac{16}{3} \\right)}{\\left( -\\frac{4}{3} \\right)} \\\\\n",
    "\\Rightarrow x = -\\frac{16}{4} \\\\\n",
    "\\Rightarrow x = -4\n",
    "$$\n"
   ]
  },
  {
   "cell_type": "markdown",
   "id": "a37fd23e",
   "metadata": {},
   "source": [
    "**(c)**\n",
    "\n",
    "Using the mid-point formula:\n",
    "$$\n",
    "m = \\left( \\frac{x_1 + x_2}{2}, \\frac{y_1 + y_2}{2} \\right) \\\\\n",
    "\\Rightarrow m = \\left( \\frac{(-7) + (5)}{2}, \\frac{(4) + (-12)}{2} \\right) \\\\\n",
    "\\Rightarrow m = \\left( \\frac{-2}{2}, \\frac{-8}{2} \\right) \\\\\n",
    "\\Rightarrow m = (-1, -4) \\\\\n",
    "$$"
   ]
  },
  {
   "cell_type": "markdown",
   "id": "1957167a",
   "metadata": {},
   "source": [
    "**(d)**\n",
    "\n",
    "Using the distance formula:\n",
    "$$\n",
    "d = \\sqrt{(y_2 - y_1)^2 + (x_2 - x_1)^2} \\\\\n",
    "\\Rightarrow d = \\sqrt{((-12) - (4))^2 + ((5) - (-7))^2} \\\\\n",
    "\\Rightarrow d = \\sqrt{(-16)^2 + (12)^2} \\\\\n",
    "\\Rightarrow d = \\sqrt{256 + 144} \\\\\n",
    "\\Rightarrow d = \\sqrt{400} \\\\\n",
    "\\Rightarrow d = 20\n",
    "$$"
   ]
  },
  {
   "cell_type": "markdown",
   "id": "3f09b131",
   "metadata": {},
   "source": [
    "**(e)**\n",
    "\n",
    "To find the perpendicular bisector of $AB$, can be found with the following formula:\n",
    "$$\n",
    "y = -\\frac{1}{m}x + b_2 \\\\\n",
    "\\Rightarrow y = -\\frac{1}{\\frac{-4}{3}}x + b_2 \\\\\n",
    "\\Rightarrow y = \\frac{3}{4}x + b_2 \n",
    "$$\n",
    "\n",
    "To solve for $b_2$, we can use the shared midpoint:\n",
    "$$\n",
    "\\Rightarrow b_2 = y - \\frac{3}{4}x \\\\\n",
    "\\Rightarrow b_2 = (-4) - \\frac{3}{4}(-1) \\\\\n",
    "\\Rightarrow b_2 = \\frac{-16}{4} + \\frac{3}{4} \\\\\n",
    "\\Rightarrow b_2 = \\frac{-13}{4} \n",
    "$$\n",
    "\n",
    "Therefore the perpendicular bisector formula is as follows:\n",
    "$$\n",
    "y = \\frac{3}{4}x - \\frac{13}{4}\n",
    "$$"
   ]
  },
  {
   "cell_type": "markdown",
   "id": "ee3cf3b8",
   "metadata": {},
   "source": [
    "**(f)**\n",
    "\n",
    "To find the radius ($r$), we divide the distance between $AB$ by 2. Then we square the result to get $r^2$:\n",
    "$$\n",
    "r = 20 \\div 2 \\\\\n",
    "\\Rightarrow r = 10 \\\\\n",
    "\\Rightarrow r^2 = 100 \n",
    "$$\n",
    "\n",
    "Since we already have the midpoint, we know the formula of the circle is as follows:\n",
    "$$\n",
    "(x - (-1)) ^2 + (y - (-4))^2 = 100 \\\\\n",
    "\\Rightarrow (x + 1) ^2 + (y + 4)^2 = 100 \\\\\n",
    "$$"
   ]
  },
  {
   "cell_type": "markdown",
   "id": "1577905e",
   "metadata": {},
   "source": [
    "### Question 5\n",
    "**(a)**"
   ]
  },
  {
   "cell_type": "code",
   "execution_count": 2,
   "id": "121471a3",
   "metadata": {},
   "outputs": [
    {
     "data": {
      "image/png": "[encoded data removed]",
      "text/plain": [
       "<Figure size 640x480 with 1 Axes>"
      ]
     },
     "metadata": {},
     "output_type": "display_data"
    }
   ],
   "source": [
    "# X coords are outside of the graph,\n",
    "# and shouldn't be taken literally.\n",
    "rect_plot(start_coords = (-6, -1),\n",
    "          width = 12,\n",
    "          height = 4,\n",
    "          linestyle = \"-\")"
   ]
  },
  {
   "cell_type": "markdown",
   "id": "46410512",
   "metadata": {},
   "source": [
    "**(b)**"
   ]
  },
  {
   "cell_type": "code",
   "execution_count": 3,
   "id": "fc2c3030",
   "metadata": {},
   "outputs": [
    {
     "data": {
      "image/png": "[encoded data removed]",
      "text/plain": [
       "<Figure size 640x480 with 1 Axes>"
      ]
     },
     "metadata": {},
     "output_type": "display_data"
    }
   ],
   "source": [
    "rect_plot(start_coords = (-4, -2),\n",
    "          width = 8,\n",
    "          height = 4,\n",
    "          linestyle = \"--\")"
   ]
  },
  {
   "cell_type": "markdown",
   "id": "65c8563f",
   "metadata": {},
   "source": [
    "**(c)**"
   ]
  },
  {
   "cell_type": "code",
   "execution_count": 4,
   "id": "74f418d3",
   "metadata": {},
   "outputs": [
    {
     "data": {
      "image/png": "[encoded data removed]",
      "text/plain": [
       "<Figure size 640x480 with 1 Axes>"
      ]
     },
     "metadata": {},
     "output_type": "display_data"
    }
   ],
   "source": [
    "# List of coordinates for x-inputs, y1, y2 functions.\n",
    "x = list(np.arange(-6, 6, 0.01))\n",
    "y1 = [1 - 0.5 * num for num in x] \n",
    "y2 = -6 # Not literal.\n",
    "\n",
    "# Call function for shading in-between two function.\n",
    "shade_between(x, y1, y2, linestyle = \"--\")"
   ]
  },
  {
   "cell_type": "markdown",
   "id": "65626c0d",
   "metadata": {},
   "source": [
    "**(d)**"
   ]
  },
  {
   "cell_type": "code",
   "execution_count": 5,
   "id": "18ccde20",
   "metadata": {},
   "outputs": [
    {
     "data": {
      "image/png": "[encoded data removed]",
      "text/plain": [
       "<Figure size 640x480 with 1 Axes>"
      ]
     },
     "metadata": {},
     "output_type": "display_data"
    }
   ],
   "source": [
    "# List of coordinates for x-inputs, and y1/y2 functions.\n",
    "x = list(np.arange(-6, 6, 0.01))\n",
    "y1 = [num ** 2 - 1 for num in x] \n",
    "y2 = 6 # Not literal.\n",
    "\n",
    "# Call function for shading in-between two function.\n",
    "shade_between(x, y1, y2, linestyle = \"--\")"
   ]
  },
  {
   "cell_type": "markdown",
   "id": "811a4953",
   "metadata": {},
   "source": [
    "**(e)**"
   ]
  },
  {
   "cell_type": "code",
   "execution_count": 6,
   "id": "bb05aea7",
   "metadata": {},
   "outputs": [
    {
     "data": {
      "image/png": "[encoded data removed]",
      "text/plain": [
       "<Figure size 640x480 with 1 Axes>"
      ]
     },
     "metadata": {},
     "output_type": "display_data"
    }
   ],
   "source": [
    "center = (0, 0)\n",
    "radius = 2\n",
    "circle_plot(center, radius, fill = True, linestyle = \"--\")"
   ]
  },
  {
   "cell_type": "code",
   "execution_count": 7,
   "id": "6f453aab",
   "metadata": {},
   "outputs": [
    {
     "data": {
      "image/png": "[encoded data removed]",
      "text/plain": [
       "<Figure size 640x480 with 1 Axes>"
      ]
     },
     "metadata": {},
     "output_type": "display_data"
    }
   ],
   "source": [
    "centre = (0, 0)\n",
    "width = 8\n",
    "height = 6\n",
    "ellipse_plot(centre, width, height, fill = False)"
   ]
  }
 ],
 "metadata": {
  "hide_input": false,
  "kernelspec": {
   "display_name": "Python 3 (ipykernel)",
   "language": "python",
   "name": "python3"
  },
  "language_info": {
   "codemirror_mode": {
    "name": "ipython",
    "version": 3
   },
   "file_extension": ".py",
   "mimetype": "text/x-python",
   "name": "python",
   "nbconvert_exporter": "python",
   "pygments_lexer": "ipython3",
   "version": "3.10.8"
  }
 },
 "nbformat": 4,
 "nbformat_minor": 5
}
